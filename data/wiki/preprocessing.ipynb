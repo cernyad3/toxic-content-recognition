{
 "cells": [
  {
   "cell_type": "code",
   "execution_count": 1,
   "metadata": {
    "collapsed": true
   },
   "outputs": [],
   "source": [
    "%load_ext autoreload\n",
    "%autoreload 2\n",
    "import pandas as pd\n",
    "import numpy as np\n",
    "import re\n"
   ]
  },
  {
   "cell_type": "code",
   "execution_count": 4,
   "outputs": [],
   "source": [
    "data = pd.read_csv('/mnt/c/Users/AdamC/Plocha/Skola/bachelors_thesis/data/wiki/train.csv')"
   ],
   "metadata": {
    "collapsed": false,
    "pycharm": {
     "name": "#%%\n"
    }
   }
  },
  {
   "cell_type": "code",
   "execution_count": 2,
   "outputs": [],
   "source": [
    "data = pd.read_csv('/mnt/c/Users/AdamC/Plocha/Skola/bachelors_thesis/data/wiki/test.csv')"
   ],
   "metadata": {
    "collapsed": false,
    "pycharm": {
     "name": "#%%\n"
    }
   }
  },
  {
   "cell_type": "code",
   "execution_count": 5,
   "outputs": [
    {
     "data": {
      "text/plain": "                 id                                       comment_text  toxic  \\\n0  0000997932d777bf  Explanation\\nWhy the edits made under my usern...      0   \n1  000103f0d9cfb60f  D'aww! He matches this background colour I'm s...      0   \n2  000113f07ec002fd  Hey man, I'm really not trying to edit war. It...      0   \n3  0001b41b1c6bb37e  \"\\nMore\\nI can't make any real suggestions on ...      0   \n4  0001d958c54c6e35  You, sir, are my hero. Any chance you remember...      0   \n\n   severe_toxic  obscene  threat  insult  identity_hate  class_binary  \n0             0        0       0       0              0             1  \n1             0        0       0       0              0             1  \n2             0        0       0       0              0             1  \n3             0        0       0       0              0             1  \n4             0        0       0       0              0             1  ",
      "text/html": "<div>\n<style scoped>\n    .dataframe tbody tr th:only-of-type {\n        vertical-align: middle;\n    }\n\n    .dataframe tbody tr th {\n        vertical-align: top;\n    }\n\n    .dataframe thead th {\n        text-align: right;\n    }\n</style>\n<table border=\"1\" class=\"dataframe\">\n  <thead>\n    <tr style=\"text-align: right;\">\n      <th></th>\n      <th>id</th>\n      <th>comment_text</th>\n      <th>toxic</th>\n      <th>severe_toxic</th>\n      <th>obscene</th>\n      <th>threat</th>\n      <th>insult</th>\n      <th>identity_hate</th>\n      <th>class_binary</th>\n    </tr>\n  </thead>\n  <tbody>\n    <tr>\n      <th>0</th>\n      <td>0000997932d777bf</td>\n      <td>Explanation\\nWhy the edits made under my usern...</td>\n      <td>0</td>\n      <td>0</td>\n      <td>0</td>\n      <td>0</td>\n      <td>0</td>\n      <td>0</td>\n      <td>1</td>\n    </tr>\n    <tr>\n      <th>1</th>\n      <td>000103f0d9cfb60f</td>\n      <td>D'aww! He matches this background colour I'm s...</td>\n      <td>0</td>\n      <td>0</td>\n      <td>0</td>\n      <td>0</td>\n      <td>0</td>\n      <td>0</td>\n      <td>1</td>\n    </tr>\n    <tr>\n      <th>2</th>\n      <td>000113f07ec002fd</td>\n      <td>Hey man, I'm really not trying to edit war. It...</td>\n      <td>0</td>\n      <td>0</td>\n      <td>0</td>\n      <td>0</td>\n      <td>0</td>\n      <td>0</td>\n      <td>1</td>\n    </tr>\n    <tr>\n      <th>3</th>\n      <td>0001b41b1c6bb37e</td>\n      <td>\"\\nMore\\nI can't make any real suggestions on ...</td>\n      <td>0</td>\n      <td>0</td>\n      <td>0</td>\n      <td>0</td>\n      <td>0</td>\n      <td>0</td>\n      <td>1</td>\n    </tr>\n    <tr>\n      <th>4</th>\n      <td>0001d958c54c6e35</td>\n      <td>You, sir, are my hero. Any chance you remember...</td>\n      <td>0</td>\n      <td>0</td>\n      <td>0</td>\n      <td>0</td>\n      <td>0</td>\n      <td>0</td>\n      <td>1</td>\n    </tr>\n  </tbody>\n</table>\n</div>"
     },
     "execution_count": 5,
     "metadata": {},
     "output_type": "execute_result"
    }
   ],
   "source": [
    "data[\"non_toxic\"] = data.iloc[:,2:8].apply(lambda x: 1 if (sum(x)==0) else 0, axis=1)\n",
    "data.head()"
   ],
   "metadata": {
    "collapsed": false,
    "pycharm": {
     "name": "#%%\n"
    }
   }
  },
  {
   "cell_type": "code",
   "execution_count": 3,
   "outputs": [],
   "source": [
    "cleaned_data = data.copy()\n",
    "\n",
    "# Removing Hyperlinks from text\n",
    "cleaned_data[\"comment_text\"] = cleaned_data[\"comment_text\"].map(lambda x: re.sub(r\"https?://\\S+|www\\.\\S+\", \"\", x))\n",
    "# Rmoving emojis from text\n",
    "cleaned_data[\"comment_text\"] = cleaned_data[\"comment_text\"].map(lambda x: re.sub(\"[\"\n",
    "                                                                                 u\"\\U0001F600-\\U0001F64F\"\n",
    "                                                                                 u\"\\U0001F300-\\U0001F5FF\"\n",
    "                                                                                 u\"\\U0001F680-\\U0001F6FF\"\n",
    "                                                                                 u\"\\U0001F1E0-\\U0001F1FF\"\n",
    "                                                                                 u\"\\U00002702-\\U000027B0\"\n",
    "                                                                                 u\"\\U000024C2-\\U0001F251\"\n",
    "                                                                                 \"]+\", \"\", x, flags=re.UNICODE))\n",
    "# Removing IP addresses from text\n",
    "cleaned_data[\"comment_text\"] = cleaned_data[\"comment_text\"].map(\n",
    "    lambda x: re.sub(r\"\\d{1,3}\\.\\d{1,3}\\.\\d{1,3}\\.\\d{1,3}\", \"\", x))"
   ],
   "metadata": {
    "collapsed": false,
    "pycharm": {
     "name": "#%%\n"
    }
   }
  },
  {
   "cell_type": "code",
   "execution_count": 4,
   "outputs": [
    {
     "data": {
      "text/plain": "                 id                                       comment_text\n0  00001cee341fdb12  Yo bitch Ja Rule is more succesful then you'll...\n1  0000247867823ef7          From RfC The title is fine as it is, IMO.\n2  00013b17ad220c46                    Sources Zawe Ashton on Lapland \n3  00017563c3f7919a  :If you have a look back at the source, the in...\n4  00017695ad8997eb          I don't anonymously edit articles at all.",
      "text/html": "<div>\n<style scoped>\n    .dataframe tbody tr th:only-of-type {\n        vertical-align: middle;\n    }\n\n    .dataframe tbody tr th {\n        vertical-align: top;\n    }\n\n    .dataframe thead th {\n        text-align: right;\n    }\n</style>\n<table border=\"1\" class=\"dataframe\">\n  <thead>\n    <tr style=\"text-align: right;\">\n      <th></th>\n      <th>id</th>\n      <th>comment_text</th>\n    </tr>\n  </thead>\n  <tbody>\n    <tr>\n      <th>0</th>\n      <td>00001cee341fdb12</td>\n      <td>Yo bitch Ja Rule is more succesful then you'll...</td>\n    </tr>\n    <tr>\n      <th>1</th>\n      <td>0000247867823ef7</td>\n      <td>From RfC The title is fine as it is, IMO.</td>\n    </tr>\n    <tr>\n      <th>2</th>\n      <td>00013b17ad220c46</td>\n      <td>Sources Zawe Ashton on Lapland</td>\n    </tr>\n    <tr>\n      <th>3</th>\n      <td>00017563c3f7919a</td>\n      <td>:If you have a look back at the source, the in...</td>\n    </tr>\n    <tr>\n      <th>4</th>\n      <td>00017695ad8997eb</td>\n      <td>I don't anonymously edit articles at all.</td>\n    </tr>\n  </tbody>\n</table>\n</div>"
     },
     "execution_count": 4,
     "metadata": {},
     "output_type": "execute_result"
    }
   ],
   "source": [
    "# Removing html tags from text\n",
    "cleaned_data[\"comment_text\"] = cleaned_data[\"comment_text\"].map(lambda x: re.sub(r\"<.*?>\", \"\", x))\n",
    "cleaned_data[\"comment_text\"] = cleaned_data[\"comment_text\"].map(\n",
    "    lambda x: re.sub(r\"\\\"\\\"\", \"\\\"\", x))  # replacing \"\" with \"\n",
    "cleaned_data[\"comment_text\"] = cleaned_data[\"comment_text\"].map(\n",
    "    lambda x: re.sub(r\"^\\\"\", \"\", x))  # removing quotation from start and the end of the string\n",
    "cleaned_data[\"comment_text\"] = cleaned_data[\"comment_text\"].map(lambda x: re.sub(r\"\\\"$\", \"\", x))\n",
    "# Removing Punctuation / Special characters (;:'\".?@!%&*+) which appears more than twice in the text\n",
    "cleaned_data[\"comment_text\"] = cleaned_data[\"comment_text\"].map(\n",
    "    lambda x: re.sub(r\"[^a-zA-Z0-9\\s][^a-zA-Z0-9\\s]+\", \" \", x))\n",
    "# Removing Special characters\n",
    "cleaned_data[\"comment_text\"] = cleaned_data[\"comment_text\"].map(lambda x: re.sub(r\"[^a-zA-Z0-9\\s\\\"\\',:;?!.()]\", \" \", x))\n",
    "# Removing extra spaces in text\n",
    "cleaned_data[\"comment_text\"] = cleaned_data[\"comment_text\"].map(lambda x: re.sub(r\"\\s\\s+\", \" \", x))\n",
    "cleaned_data.reset_index(inplace=True)\n",
    "cleaned_data.drop(columns=[\"index\"], inplace=True)\n",
    "\n",
    "\n",
    "cleaned_data.head()"
   ],
   "metadata": {
    "collapsed": false,
    "pycharm": {
     "name": "#%%\n"
    }
   }
  },
  {
   "cell_type": "code",
   "execution_count": 8,
   "outputs": [],
   "source": [
    "cleaned_data.to_csv(\n",
    "    '/mnt/c/Users/AdamC/Plocha/Skola/bachelors_thesis/data/wiki/preprocessed/train.csv')"
   ],
   "metadata": {
    "collapsed": false,
    "pycharm": {
     "name": "#%%\n"
    }
   }
  },
  {
   "cell_type": "code",
   "execution_count": 5,
   "outputs": [],
   "source": [
    "cleaned_data.to_csv(\n",
    "    '/mnt/c/Users/AdamC/Plocha/Skola/bachelors_thesis/data/wiki/preprocessed/test.csv')"
   ],
   "metadata": {
    "collapsed": false,
    "pycharm": {
     "name": "#%%\n"
    }
   }
  },
  {
   "cell_type": "code",
   "execution_count": 6,
   "outputs": [
    {
     "data": {
      "text/plain": "                 id                                       comment_text\n0  00001cee341fdb12  Yo bitch Ja Rule is more succesful then you'll...\n1  0000247867823ef7          From RfC The title is fine as it is, IMO.\n2  00013b17ad220c46                    Sources Zawe Ashton on Lapland \n3  00017563c3f7919a  :If you have a look back at the source, the in...\n4  00017695ad8997eb          I don't anonymously edit articles at all.",
      "text/html": "<div>\n<style scoped>\n    .dataframe tbody tr th:only-of-type {\n        vertical-align: middle;\n    }\n\n    .dataframe tbody tr th {\n        vertical-align: top;\n    }\n\n    .dataframe thead th {\n        text-align: right;\n    }\n</style>\n<table border=\"1\" class=\"dataframe\">\n  <thead>\n    <tr style=\"text-align: right;\">\n      <th></th>\n      <th>id</th>\n      <th>comment_text</th>\n    </tr>\n  </thead>\n  <tbody>\n    <tr>\n      <th>0</th>\n      <td>00001cee341fdb12</td>\n      <td>Yo bitch Ja Rule is more succesful then you'll...</td>\n    </tr>\n    <tr>\n      <th>1</th>\n      <td>0000247867823ef7</td>\n      <td>From RfC The title is fine as it is, IMO.</td>\n    </tr>\n    <tr>\n      <th>2</th>\n      <td>00013b17ad220c46</td>\n      <td>Sources Zawe Ashton on Lapland</td>\n    </tr>\n    <tr>\n      <th>3</th>\n      <td>00017563c3f7919a</td>\n      <td>:If you have a look back at the source, the in...</td>\n    </tr>\n    <tr>\n      <th>4</th>\n      <td>00017695ad8997eb</td>\n      <td>I don't anonymously edit articles at all.</td>\n    </tr>\n  </tbody>\n</table>\n</div>"
     },
     "execution_count": 6,
     "metadata": {},
     "output_type": "execute_result"
    }
   ],
   "source": [
    "cleaned_data.head()"
   ],
   "metadata": {
    "collapsed": false,
    "pycharm": {
     "name": "#%%\n"
    }
   }
  },
  {
   "cell_type": "code",
   "execution_count": null,
   "outputs": [],
   "source": [],
   "metadata": {
    "collapsed": false,
    "pycharm": {
     "name": "#%%\n"
    }
   }
  },
  {
   "cell_type": "code",
   "execution_count": 12,
   "outputs": [
    {
     "name": "stdout",
     "output_type": "stream",
     "text": [
      "(32450, 9)\n"
     ]
    }
   ],
   "source": [
    "data = cleaned_data.copy()\n",
    "C_indexs = data[data[\"non_toxic\"]==1].index\n",
    "\n",
    "toxic_count = data[data[\"non_toxic\"]==0].shape[0]\n",
    "drop_indxs = np.random.choice(C_indexs, size=data[data[\"non_toxic\"]==1].shape[0] - toxic_count, replace=False)\n",
    "\n",
    "# Randomly selecting and dropping non_toxic comments from datasets and leaving 5000 behind\n",
    "data.drop(drop_indxs, inplace=True)\n",
    "\n",
    "data.to_csv(\"/mnt/c/Users/AdamC/Plocha/Skola/bachelors_thesis/data/wiki/preprocessed/train_50_50.csv\")\n",
    "print(data.shape)"
   ],
   "metadata": {
    "collapsed": false,
    "pycharm": {
     "name": "#%%\n"
    }
   }
  },
  {
   "cell_type": "code",
   "execution_count": 7,
   "outputs": [],
   "source": [
    "data = pd.read_csv('/mnt/c/Users/AdamC/Plocha/Skola/bachelors_thesis/submission.csv')"
   ],
   "metadata": {
    "collapsed": false,
    "pycharm": {
     "name": "#%%\n"
    }
   }
  },
  {
   "cell_type": "code",
   "execution_count": 8,
   "outputs": [
    {
     "data": {
      "text/plain": "   Unnamed: 0                id     toxic  severe_toxic    threat    insult  \\\n0           0  00001cee341fdb12  1.000010      0.201823  0.991163  0.061886   \n1           1  0000247867823ef7  0.000010      0.000010  0.000010  0.000010   \n2           2  00013b17ad220c46  0.000010      0.000010  0.000010  0.000010   \n3           3  00017563c3f7919a  0.000546      0.000546  0.001109  0.000390   \n4           4  00017695ad8997eb  0.002262      0.000010  0.000010  0.000010   \n\n    obscene  identity_hate  \n0  0.943358       0.191943  \n1  0.000010       0.000010  \n2  0.000010       0.000010  \n3  0.002811       0.000742  \n4  0.000010       0.000010  ",
      "text/html": "<div>\n<style scoped>\n    .dataframe tbody tr th:only-of-type {\n        vertical-align: middle;\n    }\n\n    .dataframe tbody tr th {\n        vertical-align: top;\n    }\n\n    .dataframe thead th {\n        text-align: right;\n    }\n</style>\n<table border=\"1\" class=\"dataframe\">\n  <thead>\n    <tr style=\"text-align: right;\">\n      <th></th>\n      <th>Unnamed: 0</th>\n      <th>id</th>\n      <th>toxic</th>\n      <th>severe_toxic</th>\n      <th>threat</th>\n      <th>insult</th>\n      <th>obscene</th>\n      <th>identity_hate</th>\n    </tr>\n  </thead>\n  <tbody>\n    <tr>\n      <th>0</th>\n      <td>0</td>\n      <td>00001cee341fdb12</td>\n      <td>1.000010</td>\n      <td>0.201823</td>\n      <td>0.991163</td>\n      <td>0.061886</td>\n      <td>0.943358</td>\n      <td>0.191943</td>\n    </tr>\n    <tr>\n      <th>1</th>\n      <td>1</td>\n      <td>0000247867823ef7</td>\n      <td>0.000010</td>\n      <td>0.000010</td>\n      <td>0.000010</td>\n      <td>0.000010</td>\n      <td>0.000010</td>\n      <td>0.000010</td>\n    </tr>\n    <tr>\n      <th>2</th>\n      <td>2</td>\n      <td>00013b17ad220c46</td>\n      <td>0.000010</td>\n      <td>0.000010</td>\n      <td>0.000010</td>\n      <td>0.000010</td>\n      <td>0.000010</td>\n      <td>0.000010</td>\n    </tr>\n    <tr>\n      <th>3</th>\n      <td>3</td>\n      <td>00017563c3f7919a</td>\n      <td>0.000546</td>\n      <td>0.000546</td>\n      <td>0.001109</td>\n      <td>0.000390</td>\n      <td>0.002811</td>\n      <td>0.000742</td>\n    </tr>\n    <tr>\n      <th>4</th>\n      <td>4</td>\n      <td>00017695ad8997eb</td>\n      <td>0.002262</td>\n      <td>0.000010</td>\n      <td>0.000010</td>\n      <td>0.000010</td>\n      <td>0.000010</td>\n      <td>0.000010</td>\n    </tr>\n  </tbody>\n</table>\n</div>"
     },
     "execution_count": 8,
     "metadata": {},
     "output_type": "execute_result"
    }
   ],
   "source": [
    "data.head()"
   ],
   "metadata": {
    "collapsed": false,
    "pycharm": {
     "name": "#%%\n"
    }
   }
  },
  {
   "cell_type": "code",
   "execution_count": 9,
   "outputs": [
    {
     "data": {
      "text/plain": "Index(['Unnamed: 0', 'id', 'toxic', 'severe_toxic', 'threat', 'insult',\n       'obscene', 'identity_hate'],\n      dtype='object')"
     },
     "execution_count": 9,
     "metadata": {},
     "output_type": "execute_result"
    }
   ],
   "source": [
    "data.columns"
   ],
   "metadata": {
    "collapsed": false,
    "pycharm": {
     "name": "#%%\n"
    }
   }
  },
  {
   "cell_type": "code",
   "execution_count": 17,
   "outputs": [],
   "source": [
    "data = data.drop(columns=['Unnamed: 0'])"
   ],
   "metadata": {
    "collapsed": false,
    "pycharm": {
     "name": "#%%\n"
    }
   }
  },
  {
   "cell_type": "code",
   "execution_count": 19,
   "outputs": [],
   "source": [
    "data.to_csv(\"/mnt/c/Users/AdamC/Plocha/Skola/bachelors_thesis/submission1.csv\", index=False)"
   ],
   "metadata": {
    "collapsed": false,
    "pycharm": {
     "name": "#%%\n"
    }
   }
  },
  {
   "cell_type": "code",
   "execution_count": 18,
   "outputs": [
    {
     "data": {
      "text/plain": "                 id     toxic  severe_toxic    threat    insult   obscene  \\\n0  00001cee341fdb12  1.000010      0.201823  0.991163  0.061886  0.943358   \n1  0000247867823ef7  0.000010      0.000010  0.000010  0.000010  0.000010   \n2  00013b17ad220c46  0.000010      0.000010  0.000010  0.000010  0.000010   \n3  00017563c3f7919a  0.000546      0.000546  0.001109  0.000390  0.002811   \n4  00017695ad8997eb  0.002262      0.000010  0.000010  0.000010  0.000010   \n\n   identity_hate  \n0       0.191943  \n1       0.000010  \n2       0.000010  \n3       0.000742  \n4       0.000010  ",
      "text/html": "<div>\n<style scoped>\n    .dataframe tbody tr th:only-of-type {\n        vertical-align: middle;\n    }\n\n    .dataframe tbody tr th {\n        vertical-align: top;\n    }\n\n    .dataframe thead th {\n        text-align: right;\n    }\n</style>\n<table border=\"1\" class=\"dataframe\">\n  <thead>\n    <tr style=\"text-align: right;\">\n      <th></th>\n      <th>id</th>\n      <th>toxic</th>\n      <th>severe_toxic</th>\n      <th>threat</th>\n      <th>insult</th>\n      <th>obscene</th>\n      <th>identity_hate</th>\n    </tr>\n  </thead>\n  <tbody>\n    <tr>\n      <th>0</th>\n      <td>00001cee341fdb12</td>\n      <td>1.000010</td>\n      <td>0.201823</td>\n      <td>0.991163</td>\n      <td>0.061886</td>\n      <td>0.943358</td>\n      <td>0.191943</td>\n    </tr>\n    <tr>\n      <th>1</th>\n      <td>0000247867823ef7</td>\n      <td>0.000010</td>\n      <td>0.000010</td>\n      <td>0.000010</td>\n      <td>0.000010</td>\n      <td>0.000010</td>\n      <td>0.000010</td>\n    </tr>\n    <tr>\n      <th>2</th>\n      <td>00013b17ad220c46</td>\n      <td>0.000010</td>\n      <td>0.000010</td>\n      <td>0.000010</td>\n      <td>0.000010</td>\n      <td>0.000010</td>\n      <td>0.000010</td>\n    </tr>\n    <tr>\n      <th>3</th>\n      <td>00017563c3f7919a</td>\n      <td>0.000546</td>\n      <td>0.000546</td>\n      <td>0.001109</td>\n      <td>0.000390</td>\n      <td>0.002811</td>\n      <td>0.000742</td>\n    </tr>\n    <tr>\n      <th>4</th>\n      <td>00017695ad8997eb</td>\n      <td>0.002262</td>\n      <td>0.000010</td>\n      <td>0.000010</td>\n      <td>0.000010</td>\n      <td>0.000010</td>\n      <td>0.000010</td>\n    </tr>\n  </tbody>\n</table>\n</div>"
     },
     "execution_count": 18,
     "metadata": {},
     "output_type": "execute_result"
    }
   ],
   "source": [
    "data.head()"
   ],
   "metadata": {
    "collapsed": false,
    "pycharm": {
     "name": "#%%\n"
    }
   }
  },
  {
   "cell_type": "code",
   "execution_count": 29,
   "outputs": [],
   "source": [
    "test_data = pd.read_csv('/mnt/c/Users/AdamC/Plocha/Skola/bachelors_thesis/data/wiki/preprocessed/test.csv')"
   ],
   "metadata": {
    "collapsed": false,
    "pycharm": {
     "name": "#%%\n"
    }
   }
  },
  {
   "cell_type": "code",
   "execution_count": 30,
   "outputs": [
    {
     "data": {
      "text/plain": "    Unnamed: 0                id  \\\n0            0  00001cee341fdb12   \n1            1  0000247867823ef7   \n2            2  00013b17ad220c46   \n3            3  00017563c3f7919a   \n4            4  00017695ad8997eb   \n5            5  0001ea8717f6de06   \n6            6  00024115d4cbde0f   \n7            7  000247e83dcc1211   \n8            8  00025358d4737918   \n9            9  00026d1092fe71cc   \n10          10  0002eadc3b301559   \n11          11  0002f87b16116a7f   \n12          12  0003806b11932181   \n13          13  0003e1cccfd5a40a   \n14          14  00059ace3e3e9a53   \n15          15  000634272d0d44eb   \n16          16  000663aff0fffc80   \n17          17  000689dd34e20979   \n18          18  000834769115370c   \n19          19  000844b52dee5f3f   \n\n                                         comment_text  \n0   Yo bitch Ja Rule is more succesful then you'll...  \n1           From RfC The title is fine as it is, IMO.  \n2                     Sources Zawe Ashton on Lapland   \n3   :If you have a look back at the source, the in...  \n4           I don't anonymously edit articles at all.  \n5   Thank you for understanding. I think very high...  \n6   Please do not add nonsense to Wikipedia. Such ...  \n7                    :Dear god this site is horrible.  \n8    Only a fool can believe in such numbers. The ...  \n9    Double Redirects When fixing double redirects...  \n10  I think its crap that the link to roggenbier i...  \n11   Somebody will invariably try to add Religion?...  \n12  , 25 February 2010 (UTC) Looking it over, it's...  \n13   It says it right there that it IS a type. The...  \n14   Before adding a new product to the list, make...  \n15   Current Position Anyone have confirmation tha...  \n16                           this other one from 1897  \n17   Reason for banning throwing This article need...  \n18   Wallamoose was changing the cited material to...  \n19                   blocked from editing Wikipedia.   ",
      "text/html": "<div>\n<style scoped>\n    .dataframe tbody tr th:only-of-type {\n        vertical-align: middle;\n    }\n\n    .dataframe tbody tr th {\n        vertical-align: top;\n    }\n\n    .dataframe thead th {\n        text-align: right;\n    }\n</style>\n<table border=\"1\" class=\"dataframe\">\n  <thead>\n    <tr style=\"text-align: right;\">\n      <th></th>\n      <th>Unnamed: 0</th>\n      <th>id</th>\n      <th>comment_text</th>\n    </tr>\n  </thead>\n  <tbody>\n    <tr>\n      <th>0</th>\n      <td>0</td>\n      <td>00001cee341fdb12</td>\n      <td>Yo bitch Ja Rule is more succesful then you'll...</td>\n    </tr>\n    <tr>\n      <th>1</th>\n      <td>1</td>\n      <td>0000247867823ef7</td>\n      <td>From RfC The title is fine as it is, IMO.</td>\n    </tr>\n    <tr>\n      <th>2</th>\n      <td>2</td>\n      <td>00013b17ad220c46</td>\n      <td>Sources Zawe Ashton on Lapland</td>\n    </tr>\n    <tr>\n      <th>3</th>\n      <td>3</td>\n      <td>00017563c3f7919a</td>\n      <td>:If you have a look back at the source, the in...</td>\n    </tr>\n    <tr>\n      <th>4</th>\n      <td>4</td>\n      <td>00017695ad8997eb</td>\n      <td>I don't anonymously edit articles at all.</td>\n    </tr>\n    <tr>\n      <th>5</th>\n      <td>5</td>\n      <td>0001ea8717f6de06</td>\n      <td>Thank you for understanding. I think very high...</td>\n    </tr>\n    <tr>\n      <th>6</th>\n      <td>6</td>\n      <td>00024115d4cbde0f</td>\n      <td>Please do not add nonsense to Wikipedia. Such ...</td>\n    </tr>\n    <tr>\n      <th>7</th>\n      <td>7</td>\n      <td>000247e83dcc1211</td>\n      <td>:Dear god this site is horrible.</td>\n    </tr>\n    <tr>\n      <th>8</th>\n      <td>8</td>\n      <td>00025358d4737918</td>\n      <td>Only a fool can believe in such numbers. The ...</td>\n    </tr>\n    <tr>\n      <th>9</th>\n      <td>9</td>\n      <td>00026d1092fe71cc</td>\n      <td>Double Redirects When fixing double redirects...</td>\n    </tr>\n    <tr>\n      <th>10</th>\n      <td>10</td>\n      <td>0002eadc3b301559</td>\n      <td>I think its crap that the link to roggenbier i...</td>\n    </tr>\n    <tr>\n      <th>11</th>\n      <td>11</td>\n      <td>0002f87b16116a7f</td>\n      <td>Somebody will invariably try to add Religion?...</td>\n    </tr>\n    <tr>\n      <th>12</th>\n      <td>12</td>\n      <td>0003806b11932181</td>\n      <td>, 25 February 2010 (UTC) Looking it over, it's...</td>\n    </tr>\n    <tr>\n      <th>13</th>\n      <td>13</td>\n      <td>0003e1cccfd5a40a</td>\n      <td>It says it right there that it IS a type. The...</td>\n    </tr>\n    <tr>\n      <th>14</th>\n      <td>14</td>\n      <td>00059ace3e3e9a53</td>\n      <td>Before adding a new product to the list, make...</td>\n    </tr>\n    <tr>\n      <th>15</th>\n      <td>15</td>\n      <td>000634272d0d44eb</td>\n      <td>Current Position Anyone have confirmation tha...</td>\n    </tr>\n    <tr>\n      <th>16</th>\n      <td>16</td>\n      <td>000663aff0fffc80</td>\n      <td>this other one from 1897</td>\n    </tr>\n    <tr>\n      <th>17</th>\n      <td>17</td>\n      <td>000689dd34e20979</td>\n      <td>Reason for banning throwing This article need...</td>\n    </tr>\n    <tr>\n      <th>18</th>\n      <td>18</td>\n      <td>000834769115370c</td>\n      <td>Wallamoose was changing the cited material to...</td>\n    </tr>\n    <tr>\n      <th>19</th>\n      <td>19</td>\n      <td>000844b52dee5f3f</td>\n      <td>blocked from editing Wikipedia.</td>\n    </tr>\n  </tbody>\n</table>\n</div>"
     },
     "execution_count": 30,
     "metadata": {},
     "output_type": "execute_result"
    }
   ],
   "source": [
    "test_data.head(20)"
   ],
   "metadata": {
    "collapsed": false,
    "pycharm": {
     "name": "#%%\n"
    }
   }
  },
  {
   "cell_type": "code",
   "execution_count": 25,
   "outputs": [],
   "source": [
    "data[data['toxic'] != -1].to_csv('/mnt/c/Users/AdamC/Plocha/Skola/bachelors_thesis/data/wiki/ground_truth.csv', index=False)"
   ],
   "metadata": {
    "collapsed": false,
    "pycharm": {
     "name": "#%%\n"
    }
   }
  },
  {
   "cell_type": "code",
   "execution_count": 26,
   "outputs": [],
   "source": [
    "test_labels = data[data['toxic'] != -1]"
   ],
   "metadata": {
    "collapsed": false,
    "pycharm": {
     "name": "#%%\n"
    }
   }
  },
  {
   "cell_type": "code",
   "execution_count": 31,
   "outputs": [
    {
     "data": {
      "text/plain": "                  id  toxic  severe_toxic  obscene  threat  insult  \\\n5   0001ea8717f6de06      0             0        0       0       0   \n7   000247e83dcc1211      0             0        0       0       0   \n11  0002f87b16116a7f      0             0        0       0       0   \n13  0003e1cccfd5a40a      0             0        0       0       0   \n14  00059ace3e3e9a53      0             0        0       0       0   \n16  000663aff0fffc80      0             0        0       0       0   \n17  000689dd34e20979      0             0        0       0       0   \n19  000844b52dee5f3f      0             0        0       0       0   \n21  00091c35fa9d0465      1             0        0       0       0   \n22  000968ce11f5ee34      0             0        0       0       0   \n23  0009734200a85047      0             0        0       0       0   \n26  000a02d807ae0254      0             0        0       0       0   \n28  000bafe2080bba82      0             0        0       0       0   \n29  000bf0a9894b2807      0             0        0       0       0   \n31  000c9b92318552d1      0             0        0       0       0   \n33  000cf60dbaed8c02      0             0        0       0       0   \n34  000d4f120d5a7303      0             0        0       0       0   \n38  001068b809feee6b      0             0        0       0       0   \n40  0011cefc680993ba      0             0        0       0       0   \n41  0011ef6aa33d42e6      0             0        0       0       0   \n\n    identity_hate  \n5               0  \n7               0  \n11              0  \n13              0  \n14              0  \n16              0  \n17              0  \n19              0  \n21              0  \n22              0  \n23              0  \n26              0  \n28              0  \n29              0  \n31              0  \n33              0  \n34              0  \n38              0  \n40              0  \n41              0  ",
      "text/html": "<div>\n<style scoped>\n    .dataframe tbody tr th:only-of-type {\n        vertical-align: middle;\n    }\n\n    .dataframe tbody tr th {\n        vertical-align: top;\n    }\n\n    .dataframe thead th {\n        text-align: right;\n    }\n</style>\n<table border=\"1\" class=\"dataframe\">\n  <thead>\n    <tr style=\"text-align: right;\">\n      <th></th>\n      <th>id</th>\n      <th>toxic</th>\n      <th>severe_toxic</th>\n      <th>obscene</th>\n      <th>threat</th>\n      <th>insult</th>\n      <th>identity_hate</th>\n    </tr>\n  </thead>\n  <tbody>\n    <tr>\n      <th>5</th>\n      <td>0001ea8717f6de06</td>\n      <td>0</td>\n      <td>0</td>\n      <td>0</td>\n      <td>0</td>\n      <td>0</td>\n      <td>0</td>\n    </tr>\n    <tr>\n      <th>7</th>\n      <td>000247e83dcc1211</td>\n      <td>0</td>\n      <td>0</td>\n      <td>0</td>\n      <td>0</td>\n      <td>0</td>\n      <td>0</td>\n    </tr>\n    <tr>\n      <th>11</th>\n      <td>0002f87b16116a7f</td>\n      <td>0</td>\n      <td>0</td>\n      <td>0</td>\n      <td>0</td>\n      <td>0</td>\n      <td>0</td>\n    </tr>\n    <tr>\n      <th>13</th>\n      <td>0003e1cccfd5a40a</td>\n      <td>0</td>\n      <td>0</td>\n      <td>0</td>\n      <td>0</td>\n      <td>0</td>\n      <td>0</td>\n    </tr>\n    <tr>\n      <th>14</th>\n      <td>00059ace3e3e9a53</td>\n      <td>0</td>\n      <td>0</td>\n      <td>0</td>\n      <td>0</td>\n      <td>0</td>\n      <td>0</td>\n    </tr>\n    <tr>\n      <th>16</th>\n      <td>000663aff0fffc80</td>\n      <td>0</td>\n      <td>0</td>\n      <td>0</td>\n      <td>0</td>\n      <td>0</td>\n      <td>0</td>\n    </tr>\n    <tr>\n      <th>17</th>\n      <td>000689dd34e20979</td>\n      <td>0</td>\n      <td>0</td>\n      <td>0</td>\n      <td>0</td>\n      <td>0</td>\n      <td>0</td>\n    </tr>\n    <tr>\n      <th>19</th>\n      <td>000844b52dee5f3f</td>\n      <td>0</td>\n      <td>0</td>\n      <td>0</td>\n      <td>0</td>\n      <td>0</td>\n      <td>0</td>\n    </tr>\n    <tr>\n      <th>21</th>\n      <td>00091c35fa9d0465</td>\n      <td>1</td>\n      <td>0</td>\n      <td>0</td>\n      <td>0</td>\n      <td>0</td>\n      <td>0</td>\n    </tr>\n    <tr>\n      <th>22</th>\n      <td>000968ce11f5ee34</td>\n      <td>0</td>\n      <td>0</td>\n      <td>0</td>\n      <td>0</td>\n      <td>0</td>\n      <td>0</td>\n    </tr>\n    <tr>\n      <th>23</th>\n      <td>0009734200a85047</td>\n      <td>0</td>\n      <td>0</td>\n      <td>0</td>\n      <td>0</td>\n      <td>0</td>\n      <td>0</td>\n    </tr>\n    <tr>\n      <th>26</th>\n      <td>000a02d807ae0254</td>\n      <td>0</td>\n      <td>0</td>\n      <td>0</td>\n      <td>0</td>\n      <td>0</td>\n      <td>0</td>\n    </tr>\n    <tr>\n      <th>28</th>\n      <td>000bafe2080bba82</td>\n      <td>0</td>\n      <td>0</td>\n      <td>0</td>\n      <td>0</td>\n      <td>0</td>\n      <td>0</td>\n    </tr>\n    <tr>\n      <th>29</th>\n      <td>000bf0a9894b2807</td>\n      <td>0</td>\n      <td>0</td>\n      <td>0</td>\n      <td>0</td>\n      <td>0</td>\n      <td>0</td>\n    </tr>\n    <tr>\n      <th>31</th>\n      <td>000c9b92318552d1</td>\n      <td>0</td>\n      <td>0</td>\n      <td>0</td>\n      <td>0</td>\n      <td>0</td>\n      <td>0</td>\n    </tr>\n    <tr>\n      <th>33</th>\n      <td>000cf60dbaed8c02</td>\n      <td>0</td>\n      <td>0</td>\n      <td>0</td>\n      <td>0</td>\n      <td>0</td>\n      <td>0</td>\n    </tr>\n    <tr>\n      <th>34</th>\n      <td>000d4f120d5a7303</td>\n      <td>0</td>\n      <td>0</td>\n      <td>0</td>\n      <td>0</td>\n      <td>0</td>\n      <td>0</td>\n    </tr>\n    <tr>\n      <th>38</th>\n      <td>001068b809feee6b</td>\n      <td>0</td>\n      <td>0</td>\n      <td>0</td>\n      <td>0</td>\n      <td>0</td>\n      <td>0</td>\n    </tr>\n    <tr>\n      <th>40</th>\n      <td>0011cefc680993ba</td>\n      <td>0</td>\n      <td>0</td>\n      <td>0</td>\n      <td>0</td>\n      <td>0</td>\n      <td>0</td>\n    </tr>\n    <tr>\n      <th>41</th>\n      <td>0011ef6aa33d42e6</td>\n      <td>0</td>\n      <td>0</td>\n      <td>0</td>\n      <td>0</td>\n      <td>0</td>\n      <td>0</td>\n    </tr>\n  </tbody>\n</table>\n</div>"
     },
     "execution_count": 31,
     "metadata": {},
     "output_type": "execute_result"
    }
   ],
   "source": [
    "test_labels.head(20)"
   ],
   "metadata": {
    "collapsed": false,
    "pycharm": {
     "name": "#%%\n"
    }
   }
  },
  {
   "cell_type": "code",
   "execution_count": 38,
   "outputs": [
    {
     "name": "stdout",
     "output_type": "stream",
     "text": [
      "Int64Index([     5,      7,     11,     13,     14,     16,     17,     19,\n",
      "                21,     22,\n",
      "            ...\n",
      "            153142, 153144, 153145, 153147, 153149, 153150, 153151, 153154,\n",
      "            153155, 153156],\n",
      "           dtype='int64', length=63978)\n"
     ]
    }
   ],
   "source": [
    "print(test_labels.index)"
   ],
   "metadata": {
    "collapsed": false,
    "pycharm": {
     "name": "#%%\n"
    }
   }
  },
  {
   "cell_type": "code",
   "execution_count": 40,
   "outputs": [],
   "source": [
    "test_data_to_save = test_data.iloc[test_labels.index,:]"
   ],
   "metadata": {
    "collapsed": false,
    "pycharm": {
     "name": "#%%\n"
    }
   }
  },
  {
   "cell_type": "code",
   "execution_count": 43,
   "outputs": [],
   "source": [],
   "metadata": {
    "collapsed": false,
    "pycharm": {
     "name": "#%%\n"
    }
   }
  },
  {
   "cell_type": "code",
   "execution_count": 44,
   "outputs": [],
   "source": [
    "test_data_to_save.to_csv('/mnt/c/Users/AdamC/Plocha/Skola/bachelors_thesis/data/wiki/preprocessed/test_kaggle.csv', index=False)"
   ],
   "metadata": {
    "collapsed": false,
    "pycharm": {
     "name": "#%%\n"
    }
   }
  },
  {
   "cell_type": "code",
   "execution_count": 45,
   "outputs": [
    {
     "data": {
      "text/plain": "RangeIndex(start=0, stop=153164, step=1)"
     },
     "execution_count": 45,
     "metadata": {},
     "output_type": "execute_result"
    }
   ],
   "source": [
    "data.index"
   ],
   "metadata": {
    "collapsed": false,
    "pycharm": {
     "name": "#%%\n"
    }
   }
  },
  {
   "cell_type": "code",
   "execution_count": null,
   "outputs": [],
   "source": [],
   "metadata": {
    "collapsed": false,
    "pycharm": {
     "name": "#%%\n"
    }
   }
  }
 ],
 "metadata": {
  "kernelspec": {
   "display_name": "Python 3",
   "language": "python",
   "name": "python3"
  },
  "language_info": {
   "codemirror_mode": {
    "name": "ipython",
    "version": 2
   },
   "file_extension": ".py",
   "mimetype": "text/x-python",
   "name": "python",
   "nbconvert_exporter": "python",
   "pygments_lexer": "ipython2",
   "version": "2.7.6"
  }
 },
 "nbformat": 4,
 "nbformat_minor": 0
}
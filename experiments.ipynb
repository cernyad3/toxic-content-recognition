{
 "cells": [
  {
   "cell_type": "code",
   "execution_count": 2,
   "outputs": [],
   "source": [
    "%load_ext autoreload\n",
    "%autoreload 2\n",
    "import fasttext\n",
    "import pandas as pd\n",
    "from sklearn.model_selection import train_test_split\n",
    "from sklearn.metrics import classification_report\n",
    "import numpy as np\n",
    "import FastTextSupervisedClassifier"
   ],
   "metadata": {
    "collapsed": false,
    "pycharm": {
     "name": "#%%\n"
    }
   }
  },
  {
   "cell_type": "raw",
   "source": [
    "21.2.2023"
   ],
   "metadata": {
    "collapsed": false,
    "pycharm": {
     "name": "#%% raw\n"
    }
   }
  },
  {
   "cell_type": "markdown",
   "source": [
    "FT classifier\n",
    "Twitter dataset binarized\n",
    "FT autovalidation"
   ],
   "metadata": {
    "collapsed": false
   }
  },
  {
   "cell_type": "code",
   "execution_count": 6,
   "outputs": [
    {
     "name": "stderr",
     "output_type": "stream",
     "text": [
      "Warning : `load_model` does not return WordVectorModel or SupervisedModel any more, but a `FastText` object which is very similar.\n"
     ]
    },
    {
     "name": "stdout",
     "output_type": "stream",
     "text": [
      "autotuneDuration -> 300\n",
      "autotuneMetric -> f1\n",
      "autotuneModelSize -> \n",
      "autotunePredictions -> 1\n",
      "autotuneValidationFile -> \n",
      "bucket -> 30345\n",
      "cutoff -> 0\n",
      "dim -> 193\n",
      "dsub -> 2\n",
      "epoch -> 100\n",
      "input -> \n",
      "label -> __label__\n",
      "loss -> loss_name.softmax\n",
      "lr -> 0.05\n",
      "lrUpdateRate -> 100\n",
      "maxn -> 6\n",
      "minCount -> 1\n",
      "minCountLabel -> 0\n",
      "minn -> 3\n",
      "model -> model_name.supervised\n",
      "neg -> 5\n",
      "output -> \n",
      "pretrainedVectors -> \n",
      "qnorm -> False\n",
      "qout -> False\n",
      "retrain -> False\n",
      "saveOutput -> False\n",
      "seed -> 0\n",
      "setManual -> <bound method PyCapsule.setManual of <fasttext_pybind.args object at 0x7f0c47b1dbb0>>\n",
      "t -> 0.0001\n",
      "thread -> 12\n",
      "verbose -> 2\n",
      "wordNgrams -> 2\n",
      "ws -> 5\n",
      "                          precision    recall  f1-score   support\n",
      "\n",
      "Hate speech or offensive       0.97      0.97      0.97      4122\n",
      "                 Neither       0.83      0.85      0.84       835\n",
      "\n",
      "                accuracy                           0.95      4957\n",
      "               macro avg       0.90      0.91      0.90      4957\n",
      "            weighted avg       0.95      0.95      0.95      4957\n",
      "\n",
      "                                                   tweet  class_binary  \\\n",
      "2326                   i got a missed call from yo bitch             0   \n",
      "16283  Fucking with a bad bitch you gone need some mo...             0   \n",
      "19362  lol my credit ain't no where near good , but I...             1   \n",
      "16780  Wipe the cum out of them faggot Contact lens i...             0   \n",
      "13654  Niggas cheat on they bitch and don't expect no...             0   \n",
      "\n",
      "       prediction  \n",
      "2326            0  \n",
      "16283           0  \n",
      "19362           0  \n",
      "16780           0  \n",
      "13654           0  \n"
     ]
    }
   ],
   "source": [
    "model = fasttext.load_model('/mnt/c/Users/AdamC/Plocha/Skola/bachelors_thesis/model/twitter/model_twitter_binary.bin')\n",
    "\n",
    "args_obj = model.f.getArgs()\n",
    "for hparam in dir(args_obj):\n",
    "    if not hparam.startswith('__'):\n",
    "        print(f\"{hparam} -> {getattr(args_obj, hparam)}\")\n",
    "\n",
    "df = pd.read_pickle('/mnt/c/Users/AdamC/Plocha/Skola/bachelors_thesis/data/twitter/preprocessed/binary/test.p')\n",
    "df[\"prediction\"] = df[\"tweet\"].apply(lambda x: int(model.predict(x)[0][0][-1])) # take last char of string (number expected)\n",
    "\n",
    "y_true = df['class_binary']\n",
    "y_pred = df['prediction']\n",
    "\n",
    "target_names = ['Hate speech or offensive', 'Neither']\n",
    "print(classification_report(y_true, y_pred, target_names=target_names))\n"
   ],
   "metadata": {
    "collapsed": false,
    "pycharm": {
     "name": "#%%\n"
    }
   }
  },
  {
   "cell_type": "markdown",
   "source": [
    "FT classifier\n",
    "Twitter dataset\n",
    "FT autovalidation"
   ],
   "metadata": {
    "collapsed": false
   }
  },
  {
   "cell_type": "code",
   "execution_count": 4,
   "outputs": [
    {
     "name": "stderr",
     "output_type": "stream",
     "text": [
      "Warning : `load_model` does not return WordVectorModel or SupervisedModel any more, but a `FastText` object which is very similar.\n"
     ]
    },
    {
     "name": "stdout",
     "output_type": "stream",
     "text": [
      "autotuneDuration -> 300\n",
      "autotuneMetric -> f1\n",
      "autotuneModelSize -> \n",
      "autotunePredictions -> 1\n",
      "autotuneValidationFile -> \n",
      "bucket -> 1111294\n",
      "cutoff -> 0\n",
      "dim -> 360\n",
      "dsub -> 2\n",
      "epoch -> 34\n",
      "input -> \n",
      "label -> __label__\n",
      "loss -> loss_name.softmax\n",
      "lr -> 0.05\n",
      "lrUpdateRate -> 100\n",
      "maxn -> 6\n",
      "minCount -> 1\n",
      "minCountLabel -> 0\n",
      "minn -> 3\n",
      "model -> model_name.supervised\n",
      "neg -> 5\n",
      "output -> \n",
      "pretrainedVectors -> \n",
      "qnorm -> False\n",
      "qout -> False\n",
      "retrain -> False\n",
      "saveOutput -> False\n",
      "seed -> 0\n",
      "setManual -> <bound method PyCapsule.setManual of <fasttext_pybind.args object at 0x7f0c47c38b70>>\n",
      "t -> 0.0001\n",
      "thread -> 12\n",
      "verbose -> 2\n",
      "wordNgrams -> 1\n",
      "ws -> 5\n",
      "                    precision    recall  f1-score   support\n",
      "\n",
      "       Hate speech       0.42      0.17      0.24       290\n",
      "Offensive language       0.92      0.95      0.94      3832\n",
      "           Neither       0.81      0.85      0.83       835\n",
      "\n",
      "          accuracy                           0.89      4957\n",
      "         macro avg       0.72      0.65      0.67      4957\n",
      "      weighted avg       0.87      0.89      0.88      4957\n",
      "\n"
     ]
    }
   ],
   "source": [
    "model = fasttext.load_model(\n",
    "        '/mnt/c/Users/AdamC/Plocha/Skola/bachelors_thesis/model/twitter/model_twitter.bin')\n",
    "\n",
    "args_obj = model.f.getArgs()\n",
    "for hparam in dir(args_obj):\n",
    "   if not hparam.startswith('__'):\n",
    "       print(f\"{hparam} -> {getattr(args_obj, hparam)}\")\n",
    "\n",
    "\n",
    "df = pd.read_pickle('/mnt/c/Users/AdamC/Plocha/Skola/bachelors_thesis/data/twitter/preprocessed/multiclass/test.p')\n",
    "df[\"prediction\"] = df[\"tweet\"].apply(lambda x: int(model.predict(x)[0][0][-1]))\n",
    "\n",
    "y_true = np.array(df['class']).astype(int)\n",
    "y_pred = np.array(df['prediction']).astype(int)\n",
    "\n",
    "target_names = ['Hate speech', 'Offensive language', 'Neither']\n",
    "print(classification_report(y_true, y_pred, target_names=target_names))"
   ],
   "metadata": {
    "collapsed": false,
    "pycharm": {
     "name": "#%%\n"
    }
   }
  },
  {
   "cell_type": "raw",
   "source": [
    "22.2.2023"
   ],
   "metadata": {
    "collapsed": false,
    "pycharm": {
     "name": "#%% raw\n"
    }
   }
  },
  {
   "cell_type": "raw",
   "source": [
    "FT classifier\n",
    "Wiki dataset\n",
    "FT autovalidation"
   ],
   "metadata": {
    "collapsed": false,
    "pycharm": {
     "name": "#%% raw\n"
    }
   }
  },
  {
   "cell_type": "code",
   "execution_count": null,
   "outputs": [],
   "source": [
    "df = pd.read_csv('/mnt/c/Users/AdamC/Plocha/Skola/bachelors_thesis/data/wiki/preprocessed/train.csv')\n",
    "FastTextSupervisedClassifier.split_df_dataset(df, 0.1, 0.2, 'comment_text', 'non_toxic', '/mnt/c/Users/AdamC/Plocha/Skola/bachelors_thesis/data/wiki/preprocessed/binary')\n",
    "\n",
    "    model = fasttext.train_supervised(input='data/wiki/preprocessed/binary/FT_train.txt',\n",
    "                                      autotuneValidationFile='data/wiki/preprocessed/binary/FT_valid.txt')\n",
    "    print(model.test(\"data/wiki/preprocessed/binary/FT_test.txt\"))\n",
    "    model.save_model('model/wiki/binary.bin')\n",
    "\n",
    "    model = fasttext.load_model(\n",
    "        '/mnt/c/Users/AdamC/Plocha/Skola/bachelors_thesis/model/wiki/binary.bin')\n",
    "\n",
    "    args_obj = model.f.getArgs()\n",
    "    for hparam in dir(args_obj):\n",
    "        if not hparam.startswith('__'):\n",
    "            print(f\"{hparam} -> {getattr(args_obj, hparam)}\")\n",
    "\n",
    "    df = pd.read_pickle('/mnt/c/Users/AdamC/Plocha/Skola/bachelors_thesis/data/wiki/preprocessed/binary/test.p')\n",
    "\n",
    "    df[\"prediction\"] = df[\"comment_text\"].apply(lambda x: int(model.predict(str(x).replace('\\n', ' '))[0][0][-1]))\n",
    "\n",
    "    y_true = np.array(df['non_toxic']).astype(int)\n",
    "    y_pred = np.array(df['prediction']).astype(int)\n",
    "\n",
    "    target_names = ['Toxic', 'Non-toxic']\n",
    "    print(classification_report(y_true, y_pred, target_names=target_names))"
   ],
   "metadata": {
    "collapsed": false,
    "pycharm": {
     "name": "#%%\n"
    }
   }
  },
  {
   "cell_type": "code",
   "execution_count": null,
   "outputs": [],
   "source": [],
   "metadata": {
    "collapsed": false,
    "pycharm": {
     "name": "#%%\n"
    }
   }
  }
 ],
 "metadata": {
  "kernelspec": {
   "display_name": "Python 3",
   "language": "python",
   "name": "python3"
  },
  "language_info": {
   "codemirror_mode": {
    "name": "ipython",
    "version": 2
   },
   "file_extension": ".py",
   "mimetype": "text/x-python",
   "name": "python",
   "nbconvert_exporter": "python",
   "pygments_lexer": "ipython2",
   "version": "2.7.6"
  }
 },
 "nbformat": 4,
 "nbformat_minor": 0
}
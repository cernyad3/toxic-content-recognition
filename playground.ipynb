{
 "cells": [
  {
   "cell_type": "code",
   "execution_count": 1,
   "metadata": {
    "collapsed": true
   },
   "outputs": [],
   "source": [
    "%load_ext autoreload\n",
    "%autoreload 2\n",
    "import pandas as pd\n",
    "import fasttext\n",
    "import re"
   ]
  },
  {
   "cell_type": "code",
   "execution_count": 97,
   "outputs": [],
   "source": [
    "data = pd.read_pickle(\"/mnt/c/Users/AdamC/Plocha/Skola/bachelors_thesis/data/twitter/labeled_data.p\")"
   ],
   "metadata": {
    "collapsed": false,
    "pycharm": {
     "name": "#%%\n"
    }
   }
  },
  {
   "cell_type": "code",
   "execution_count": 36,
   "outputs": [
    {
     "data": {
      "text/plain": "   count  hate_speech  offensive_language  neither class  \\\n0      3            0                   0        3     2   \n1      3            0                   3        0     1   \n2      3            0                   3        0     1   \n3      3            0                   2        1     1   \n4      6            0                   6        0     1   \n\n                                               tweet  \n0  !!! RT @mayasolovely: As a woman you shouldn't...  \n1  !!!!! RT @mleew17: boy dats cold...tyga dwn ba...  \n2  !!!!!!! RT @UrKindOfBrand Dawg!!!! RT @80sbaby...  \n3  !!!!!!!!! RT @C_G_Anderson: @viva_based she lo...  \n4  !!!!!!!!!!!!! RT @ShenikaRoberts: The shit you...  ",
      "text/html": "<div>\n<style scoped>\n    .dataframe tbody tr th:only-of-type {\n        vertical-align: middle;\n    }\n\n    .dataframe tbody tr th {\n        vertical-align: top;\n    }\n\n    .dataframe thead th {\n        text-align: right;\n    }\n</style>\n<table border=\"1\" class=\"dataframe\">\n  <thead>\n    <tr style=\"text-align: right;\">\n      <th></th>\n      <th>count</th>\n      <th>hate_speech</th>\n      <th>offensive_language</th>\n      <th>neither</th>\n      <th>class</th>\n      <th>tweet</th>\n    </tr>\n  </thead>\n  <tbody>\n    <tr>\n      <th>0</th>\n      <td>3</td>\n      <td>0</td>\n      <td>0</td>\n      <td>3</td>\n      <td>2</td>\n      <td>!!! RT @mayasolovely: As a woman you shouldn't...</td>\n    </tr>\n    <tr>\n      <th>1</th>\n      <td>3</td>\n      <td>0</td>\n      <td>3</td>\n      <td>0</td>\n      <td>1</td>\n      <td>!!!!! RT @mleew17: boy dats cold...tyga dwn ba...</td>\n    </tr>\n    <tr>\n      <th>2</th>\n      <td>3</td>\n      <td>0</td>\n      <td>3</td>\n      <td>0</td>\n      <td>1</td>\n      <td>!!!!!!! RT @UrKindOfBrand Dawg!!!! RT @80sbaby...</td>\n    </tr>\n    <tr>\n      <th>3</th>\n      <td>3</td>\n      <td>0</td>\n      <td>2</td>\n      <td>1</td>\n      <td>1</td>\n      <td>!!!!!!!!! RT @C_G_Anderson: @viva_based she lo...</td>\n    </tr>\n    <tr>\n      <th>4</th>\n      <td>6</td>\n      <td>0</td>\n      <td>6</td>\n      <td>0</td>\n      <td>1</td>\n      <td>!!!!!!!!!!!!! RT @ShenikaRoberts: The shit you...</td>\n    </tr>\n  </tbody>\n</table>\n</div>"
     },
     "execution_count": 36,
     "metadata": {},
     "output_type": "execute_result"
    }
   ],
   "source": [
    "data.head()"
   ],
   "metadata": {
    "collapsed": false,
    "pycharm": {
     "name": "#%%\n"
    }
   }
  },
  {
   "cell_type": "code",
   "execution_count": 98,
   "outputs": [
    {
     "data": {
      "text/plain": "   count  hate_speech  offensive_language  neither class  \\\n0      3            0                   0        3     2   \n1      3            0                   3        0     1   \n2      3            0                   3        0     1   \n3      3            0                   2        1     1   \n4      6            0                   6        0     1   \n\n                                               tweet  class_binary  \n0  !!! RT @mayasolovely: As a woman you shouldn't...             1  \n1  !!!!! RT @mleew17: boy dats cold...tyga dwn ba...             0  \n2  !!!!!!! RT @UrKindOfBrand Dawg!!!! RT @80sbaby...             0  \n3  !!!!!!!!! RT @C_G_Anderson: @viva_based she lo...             0  \n4  !!!!!!!!!!!!! RT @ShenikaRoberts: The shit you...             0  ",
      "text/html": "<div>\n<style scoped>\n    .dataframe tbody tr th:only-of-type {\n        vertical-align: middle;\n    }\n\n    .dataframe tbody tr th {\n        vertical-align: top;\n    }\n\n    .dataframe thead th {\n        text-align: right;\n    }\n</style>\n<table border=\"1\" class=\"dataframe\">\n  <thead>\n    <tr style=\"text-align: right;\">\n      <th></th>\n      <th>count</th>\n      <th>hate_speech</th>\n      <th>offensive_language</th>\n      <th>neither</th>\n      <th>class</th>\n      <th>tweet</th>\n      <th>class_binary</th>\n    </tr>\n  </thead>\n  <tbody>\n    <tr>\n      <th>0</th>\n      <td>3</td>\n      <td>0</td>\n      <td>0</td>\n      <td>3</td>\n      <td>2</td>\n      <td>!!! RT @mayasolovely: As a woman you shouldn't...</td>\n      <td>1</td>\n    </tr>\n    <tr>\n      <th>1</th>\n      <td>3</td>\n      <td>0</td>\n      <td>3</td>\n      <td>0</td>\n      <td>1</td>\n      <td>!!!!! RT @mleew17: boy dats cold...tyga dwn ba...</td>\n      <td>0</td>\n    </tr>\n    <tr>\n      <th>2</th>\n      <td>3</td>\n      <td>0</td>\n      <td>3</td>\n      <td>0</td>\n      <td>1</td>\n      <td>!!!!!!! RT @UrKindOfBrand Dawg!!!! RT @80sbaby...</td>\n      <td>0</td>\n    </tr>\n    <tr>\n      <th>3</th>\n      <td>3</td>\n      <td>0</td>\n      <td>2</td>\n      <td>1</td>\n      <td>1</td>\n      <td>!!!!!!!!! RT @C_G_Anderson: @viva_based she lo...</td>\n      <td>0</td>\n    </tr>\n    <tr>\n      <th>4</th>\n      <td>6</td>\n      <td>0</td>\n      <td>6</td>\n      <td>0</td>\n      <td>1</td>\n      <td>!!!!!!!!!!!!! RT @ShenikaRoberts: The shit you...</td>\n      <td>0</td>\n    </tr>\n  </tbody>\n</table>\n</div>"
     },
     "execution_count": 98,
     "metadata": {},
     "output_type": "execute_result"
    }
   ],
   "source": [
    "# 0 - hate_speech\n",
    "# 1 - offensive_language\n",
    "# 2 - neither\n",
    "data[\"class_binary\"] = (data[\"class\"] == 2).astype(int)\n",
    "\n",
    "# BINARY\n",
    "# 0 - toxic\n",
    "# 1 - normal\n",
    "data.head()"
   ],
   "metadata": {
    "collapsed": false,
    "pycharm": {
     "name": "#%%\n"
    }
   }
  },
  {
   "cell_type": "code",
   "execution_count": 92,
   "outputs": [
    {
     "data": {
      "text/plain": "'Kill Them All Yes'"
     },
     "execution_count": 92,
     "metadata": {},
     "output_type": "execute_result"
    }
   ],
   "source": [
    "def camel_case_split(str):\n",
    "    return re.findall(r'[A-Z](?:[a-z]+|[A-Z]*(?=[A-Z]|$))', str)\n",
    "\n",
    "st = \"#KillThemAllYes s\"\n",
    "' '.join(camel_case_split(st))"
   ],
   "metadata": {
    "collapsed": false,
    "pycharm": {
     "name": "#%%\n"
    }
   }
  },
  {
   "cell_type": "code",
   "execution_count": 100,
   "outputs": [
    {
     "data": {
      "text/plain": "    count  hate_speech  offensive_language  neither class  \\\n0       3            0                   0        3     2   \n1       3            0                   3        0     1   \n2       3            0                   3        0     1   \n3       3            0                   2        1     1   \n4       6            0                   6        0     1   \n5       3            1                   2        0     1   \n6       3            0                   3        0     1   \n7       3            0                   3        0     1   \n8       3            0                   3        0     1   \n9       3            1                   2        0     1   \n10      3            0                   3        0     1   \n11      3            0                   3        0     1   \n12      3            0                   2        1     1   \n13      3            0                   3        0     1   \n14      3            1                   2        0     1   \n15      3            0                   3        0     1   \n16      3            0                   3        0     1   \n17      3            1                   2        0     1   \n18      3            0                   3        0     1   \n19      3            0                   3        0     1   \n\n                                                tweet  class_binary  \n0   !!! As a woman you shouldn't complain about cl...             1  \n1   !!!!! boy dats cold...tyga dwn bad for cuffin ...             0  \n2   !!!!!!! Dawg!!!! You ever fuck a bitch and she...             0  \n3                    !!!!!!!!! she look like a tranny             0  \n4   !!!!!!!!!!!!! The shit you hear about me might...             0  \n5   !!!!!!!!!!!!!!!!!! The shit just blows me..cla...             0  \n6   !!!!!! I can not just sit up and HATE on anoth...             0  \n7   !!!! cause I'm tired of you big bitches coming...             0  \n8    amp you might not get ya bitch back amp thats...             0  \n9               hobbies include fighting Mariam bitch             0  \n10   Keeks is a bitch she curves everyone lol I wa...             0  \n11                    Murda Gang bitch its Gang Land              0  \n12   So hoes that smoke are losers ? yea ... go on IG             0  \n13         bad bitches is the only thing that i like              0  \n14                               bitch get up off me              0  \n15                       bitch nigga miss me with it              0  \n16                                bitch plz whatever              0  \n17                             bitch who do you love              0  \n18                    bitches get cut off everyday B              0  \n19                      black bottle amp a bad bitch              0  ",
      "text/html": "<div>\n<style scoped>\n    .dataframe tbody tr th:only-of-type {\n        vertical-align: middle;\n    }\n\n    .dataframe tbody tr th {\n        vertical-align: top;\n    }\n\n    .dataframe thead th {\n        text-align: right;\n    }\n</style>\n<table border=\"1\" class=\"dataframe\">\n  <thead>\n    <tr style=\"text-align: right;\">\n      <th></th>\n      <th>count</th>\n      <th>hate_speech</th>\n      <th>offensive_language</th>\n      <th>neither</th>\n      <th>class</th>\n      <th>tweet</th>\n      <th>class_binary</th>\n    </tr>\n  </thead>\n  <tbody>\n    <tr>\n      <th>0</th>\n      <td>3</td>\n      <td>0</td>\n      <td>0</td>\n      <td>3</td>\n      <td>2</td>\n      <td>!!! As a woman you shouldn't complain about cl...</td>\n      <td>1</td>\n    </tr>\n    <tr>\n      <th>1</th>\n      <td>3</td>\n      <td>0</td>\n      <td>3</td>\n      <td>0</td>\n      <td>1</td>\n      <td>!!!!! boy dats cold...tyga dwn bad for cuffin ...</td>\n      <td>0</td>\n    </tr>\n    <tr>\n      <th>2</th>\n      <td>3</td>\n      <td>0</td>\n      <td>3</td>\n      <td>0</td>\n      <td>1</td>\n      <td>!!!!!!! Dawg!!!! You ever fuck a bitch and she...</td>\n      <td>0</td>\n    </tr>\n    <tr>\n      <th>3</th>\n      <td>3</td>\n      <td>0</td>\n      <td>2</td>\n      <td>1</td>\n      <td>1</td>\n      <td>!!!!!!!!! she look like a tranny</td>\n      <td>0</td>\n    </tr>\n    <tr>\n      <th>4</th>\n      <td>6</td>\n      <td>0</td>\n      <td>6</td>\n      <td>0</td>\n      <td>1</td>\n      <td>!!!!!!!!!!!!! The shit you hear about me might...</td>\n      <td>0</td>\n    </tr>\n    <tr>\n      <th>5</th>\n      <td>3</td>\n      <td>1</td>\n      <td>2</td>\n      <td>0</td>\n      <td>1</td>\n      <td>!!!!!!!!!!!!!!!!!! The shit just blows me..cla...</td>\n      <td>0</td>\n    </tr>\n    <tr>\n      <th>6</th>\n      <td>3</td>\n      <td>0</td>\n      <td>3</td>\n      <td>0</td>\n      <td>1</td>\n      <td>!!!!!! I can not just sit up and HATE on anoth...</td>\n      <td>0</td>\n    </tr>\n    <tr>\n      <th>7</th>\n      <td>3</td>\n      <td>0</td>\n      <td>3</td>\n      <td>0</td>\n      <td>1</td>\n      <td>!!!! cause I'm tired of you big bitches coming...</td>\n      <td>0</td>\n    </tr>\n    <tr>\n      <th>8</th>\n      <td>3</td>\n      <td>0</td>\n      <td>3</td>\n      <td>0</td>\n      <td>1</td>\n      <td>amp you might not get ya bitch back amp thats...</td>\n      <td>0</td>\n    </tr>\n    <tr>\n      <th>9</th>\n      <td>3</td>\n      <td>1</td>\n      <td>2</td>\n      <td>0</td>\n      <td>1</td>\n      <td>hobbies include fighting Mariam bitch</td>\n      <td>0</td>\n    </tr>\n    <tr>\n      <th>10</th>\n      <td>3</td>\n      <td>0</td>\n      <td>3</td>\n      <td>0</td>\n      <td>1</td>\n      <td>Keeks is a bitch she curves everyone lol I wa...</td>\n      <td>0</td>\n    </tr>\n    <tr>\n      <th>11</th>\n      <td>3</td>\n      <td>0</td>\n      <td>3</td>\n      <td>0</td>\n      <td>1</td>\n      <td>Murda Gang bitch its Gang Land</td>\n      <td>0</td>\n    </tr>\n    <tr>\n      <th>12</th>\n      <td>3</td>\n      <td>0</td>\n      <td>2</td>\n      <td>1</td>\n      <td>1</td>\n      <td>So hoes that smoke are losers ? yea ... go on IG</td>\n      <td>0</td>\n    </tr>\n    <tr>\n      <th>13</th>\n      <td>3</td>\n      <td>0</td>\n      <td>3</td>\n      <td>0</td>\n      <td>1</td>\n      <td>bad bitches is the only thing that i like</td>\n      <td>0</td>\n    </tr>\n    <tr>\n      <th>14</th>\n      <td>3</td>\n      <td>1</td>\n      <td>2</td>\n      <td>0</td>\n      <td>1</td>\n      <td>bitch get up off me</td>\n      <td>0</td>\n    </tr>\n    <tr>\n      <th>15</th>\n      <td>3</td>\n      <td>0</td>\n      <td>3</td>\n      <td>0</td>\n      <td>1</td>\n      <td>bitch nigga miss me with it</td>\n      <td>0</td>\n    </tr>\n    <tr>\n      <th>16</th>\n      <td>3</td>\n      <td>0</td>\n      <td>3</td>\n      <td>0</td>\n      <td>1</td>\n      <td>bitch plz whatever</td>\n      <td>0</td>\n    </tr>\n    <tr>\n      <th>17</th>\n      <td>3</td>\n      <td>1</td>\n      <td>2</td>\n      <td>0</td>\n      <td>1</td>\n      <td>bitch who do you love</td>\n      <td>0</td>\n    </tr>\n    <tr>\n      <th>18</th>\n      <td>3</td>\n      <td>0</td>\n      <td>3</td>\n      <td>0</td>\n      <td>1</td>\n      <td>bitches get cut off everyday B</td>\n      <td>0</td>\n    </tr>\n    <tr>\n      <th>19</th>\n      <td>3</td>\n      <td>0</td>\n      <td>3</td>\n      <td>0</td>\n      <td>1</td>\n      <td>black bottle amp a bad bitch</td>\n      <td>0</td>\n    </tr>\n  </tbody>\n</table>\n</div>"
     },
     "execution_count": 100,
     "metadata": {},
     "output_type": "execute_result"
    }
   ],
   "source": [
    "# remove hyperlinks\n",
    "data[\"tweet\"] = data[\"tweet\"].map(lambda x: re.sub(r\"https?://\\S+|www\\.\\S+\", \"\", x))\n",
    "\n",
    "# remove RT string\n",
    "data[\"tweet\"] = data[\"tweet\"].map(lambda x: re.sub(r'\\sRT\\s', \"\", x))\n",
    "data[\"tweet\"] = data[\"tweet\"].map(lambda x: re.sub(r'^RT\\s', \"\", x))\n",
    "\n",
    "# TODO split camel case from hashtags\n",
    "#data[\"tweet\"] = data[\"tweet\"].map(lambda x: re.sub('[^A-Za-z!?,.\\'\\s@]+', ' '.join(camel_case_split(x)), x))\n",
    "\n",
    "# remove special characters\n",
    "data[\"tweet\"] = data[\"tweet\"].map(lambda x: re.sub('[^A-Za-z!?,.\\'\\s@]+', '', x))\n",
    "\n",
    "# remove user names\n",
    "data[\"tweet\"] = data[\"tweet\"].map(lambda x: re.sub(r'(\\s)@\\S+', r'\\1', x)) # in text\n",
    "data[\"tweet\"] = data[\"tweet\"].map(lambda x: re.sub(r'@\\S+', '', x)) # at the beginning\n",
    "\n",
    "# remove multiple whitespaces\n",
    "data[\"tweet\"] = data[\"tweet\"].map(lambda x: re.sub(r'\\s+', ' ', x))\n",
    "\n",
    "data.head(20)"
   ],
   "metadata": {
    "collapsed": false,
    "pycharm": {
     "name": "#%%\n"
    }
   }
  },
  {
   "cell_type": "code",
   "execution_count": 101,
   "outputs": [],
   "source": [
    "pd.to_pickle(data, \"/mnt/c/Users/AdamC/Plocha/Skola/bachelors_thesis/data/twitter/preprocessed/labeled_data.p\")"
   ],
   "metadata": {
    "collapsed": false,
    "pycharm": {
     "name": "#%%\n"
    }
   }
  },
  {
   "cell_type": "code",
   "source": [
    "model = fasttext.load_model('/mnt/c/Users/AdamC/Plocha/Skola/bachelors_thesis/model_twitter.bin')\n",
    "df = pd.read_pickle('/mnt/c/Users/AdamC/Plocha/Skola/bachelors_thesis/data/twitter/preprocessed/labeled_data.p')\n",
    "df[\"prediction\"] = df[\"tweet\"].apply(lambda x : model.predict(x)[0][0][-1])\n",
    "\n",
    "print(df.head())"
   ],
   "metadata": {
    "collapsed": false,
    "pycharm": {
     "name": "#%%\n"
    }
   },
   "execution_count": null,
   "outputs": []
  },
  {
   "cell_type": "code",
   "execution_count": 105,
   "outputs": [
    {
     "data": {
      "text/plain": "   count  hate_speech  offensive_language  neither class  \\\n0      3            0                   0        3     2   \n1      3            0                   3        0     1   \n2      3            0                   3        0     1   \n3      3            0                   2        1     1   \n4      6            0                   6        0     1   \n\n                                               tweet  class_binary prediction  \n0  !!! As a woman you shouldn't complain about cl...             1          2  \n1  !!!!! boy dats cold...tyga dwn bad for cuffin ...             0          1  \n2  !!!!!!! Dawg!!!! You ever fuck a bitch and she...             0          1  \n3                   !!!!!!!!! she look like a tranny             0          1  \n4  !!!!!!!!!!!!! The shit you hear about me might...             0          1  ",
      "text/html": "<div>\n<style scoped>\n    .dataframe tbody tr th:only-of-type {\n        vertical-align: middle;\n    }\n\n    .dataframe tbody tr th {\n        vertical-align: top;\n    }\n\n    .dataframe thead th {\n        text-align: right;\n    }\n</style>\n<table border=\"1\" class=\"dataframe\">\n  <thead>\n    <tr style=\"text-align: right;\">\n      <th></th>\n      <th>count</th>\n      <th>hate_speech</th>\n      <th>offensive_language</th>\n      <th>neither</th>\n      <th>class</th>\n      <th>tweet</th>\n      <th>class_binary</th>\n      <th>prediction</th>\n    </tr>\n  </thead>\n  <tbody>\n    <tr>\n      <th>0</th>\n      <td>3</td>\n      <td>0</td>\n      <td>0</td>\n      <td>3</td>\n      <td>2</td>\n      <td>!!! As a woman you shouldn't complain about cl...</td>\n      <td>1</td>\n      <td>2</td>\n    </tr>\n    <tr>\n      <th>1</th>\n      <td>3</td>\n      <td>0</td>\n      <td>3</td>\n      <td>0</td>\n      <td>1</td>\n      <td>!!!!! boy dats cold...tyga dwn bad for cuffin ...</td>\n      <td>0</td>\n      <td>1</td>\n    </tr>\n    <tr>\n      <th>2</th>\n      <td>3</td>\n      <td>0</td>\n      <td>3</td>\n      <td>0</td>\n      <td>1</td>\n      <td>!!!!!!! Dawg!!!! You ever fuck a bitch and she...</td>\n      <td>0</td>\n      <td>1</td>\n    </tr>\n    <tr>\n      <th>3</th>\n      <td>3</td>\n      <td>0</td>\n      <td>2</td>\n      <td>1</td>\n      <td>1</td>\n      <td>!!!!!!!!! she look like a tranny</td>\n      <td>0</td>\n      <td>1</td>\n    </tr>\n    <tr>\n      <th>4</th>\n      <td>6</td>\n      <td>0</td>\n      <td>6</td>\n      <td>0</td>\n      <td>1</td>\n      <td>!!!!!!!!!!!!! The shit you hear about me might...</td>\n      <td>0</td>\n      <td>1</td>\n    </tr>\n  </tbody>\n</table>\n</div>"
     },
     "execution_count": 105,
     "metadata": {},
     "output_type": "execute_result"
    }
   ],
   "source": [
    "df.head()"
   ],
   "metadata": {
    "collapsed": false,
    "pycharm": {
     "name": "#%%\n"
    }
   }
  },
  {
   "cell_type": "code",
   "execution_count": 123,
   "outputs": [
    {
     "name": "stdout",
     "output_type": "stream",
     "text": [
      "Macro average f1 (multiclass): 0.8865612505959506\n"
     ]
    }
   ],
   "source": [
    "precision0 = (df.loc[((df['prediction'].astype(str) == '0') & (df['class'].astype(str) == '0'))]).shape[0] / (df.loc[(df['prediction'].astype(str) == '0')]).shape[0]\n",
    "precision1 = (df.loc[((df['prediction'].astype(str) == '1') & (df['class'].astype(str) == '1'))]).shape[0] / (df.loc[(df['prediction'].astype(str) == '1')]).shape[0]\n",
    "precision2 = (df.loc[((df['prediction'].astype(str) == '2') & (df['class'].astype(str) == '2'))]).shape[0] / (df.loc[(df['prediction'].astype(str) == '2')]).shape[0]\n",
    "\n",
    "recall0 = (df.loc[((df['prediction'].astype(str) == '0') & (df['class'].astype(str) == '0'))]).shape[0] / (df.loc[(df['class'].astype(str) == '0')]).shape[0]\n",
    "recall1 = (df.loc[((df['prediction'].astype(str) == '1') & (df['class'].astype(str) == '1'))]).shape[0] / (df.loc[(df['class'].astype(str) == '1')]).shape[0]\n",
    "recall2 = (df.loc[((df['prediction'].astype(str) == '2') & (df['class'].astype(str) == '2'))]).shape[0] / (df.loc[(df['class'].astype(str) == '2')]).shape[0]\n",
    "\n",
    "f1_0 = 2*precision0*recall0 / (precision0 + recall0)\n",
    "f1_1 = 2*precision1*recall1 / (precision1 + recall1)\n",
    "f1_2 = 2*precision2*recall2 / (precision2 + recall2)\n",
    "\n",
    "combined_f1 = (f1_0 + f1_1 + f1_2) / 3\n",
    "print(f\"Macro average f1 (multiclass): {combined_f1}\")"
   ],
   "metadata": {
    "collapsed": false,
    "pycharm": {
     "name": "#%%\n"
    }
   }
  },
  {
   "cell_type": "code",
   "execution_count": 154,
   "outputs": [
    {
     "name": "stderr",
     "output_type": "stream",
     "text": [
      "Warning : `load_model` does not return WordVectorModel or SupervisedModel any more, but a `FastText` object which is very similar.\n"
     ]
    }
   ],
   "source": [
    "model = fasttext.load_model('/mnt/c/Users/AdamC/Plocha/Skola/bachelors_thesis/model_twitter_binary.bin')\n",
    "df = pd.read_pickle('/mnt/c/Users/AdamC/Plocha/Skola/bachelors_thesis/data/twitter/preprocessed/labeled_data.p')\n",
    "df[\"prediction\"] = df[\"tweet\"].apply(lambda x : model.predict(x)[0][0][-1])"
   ],
   "metadata": {
    "collapsed": false,
    "pycharm": {
     "name": "#%%\n"
    }
   }
  },
  {
   "cell_type": "code",
   "execution_count": 157,
   "outputs": [
    {
     "name": "stdout",
     "output_type": "stream",
     "text": [
      "Macro average f1 (multiclass): 0.9696565656565657\n"
     ]
    }
   ],
   "source": [
    "precision0 = (df.loc[((df['prediction'].astype(str) == '0') & (df['class_binary'].astype(str) == '0'))]).shape[0] / (df.loc[(df['prediction'].astype(str) == '0')]).shape[0]\n",
    "precision1 = (df.loc[((df['prediction'].astype(str) == '1') & (df['class_binary'].astype(str) == '1'))]).shape[0] / (df.loc[(df['prediction'].astype(str) == '1')]).shape[0]\n",
    "#precision2 = (df.loc[((df['prediction'].astype(str) == '2') & (df['class'].astype(str) == '2'))]).shape[0] / (df.loc[(df['prediction'].astype(str) == '2')]).shape[0]\n",
    "\n",
    "recall0 = (df.loc[((df['prediction'].astype(str) == '0') & (df['class_binary'].astype(str) == '0'))]).shape[0] / (df.loc[(df['class_binary'].astype(str) == '0')]).shape[0]\n",
    "recall1 = (df.loc[((df['prediction'].astype(str) == '1') & (df['class_binary'].astype(str) == '1'))]).shape[0] / (df.loc[(df['class_binary'].astype(str) == '1')]).shape[0]\n",
    "#recall2 = (df.loc[((df['prediction'].astype(str) == '2') & (df['class'].astype(str) == '2'))]).shape[0] / (df.loc[(df['class'].astype(str) == '2')]).shape[0]\n",
    "\n",
    "f1_0 = 2*precision0*recall0 / (precision0 + recall0)\n",
    "f1_1 = 2*precision1*recall1 / (precision1 + recall1)\n",
    "#f1_2 = 2*precision2*recall2 / (precision2 + recall2)\n",
    "\n",
    "combined_f1 = (f1_0 + f1_1 ) / 2\n",
    "print(f\"Macro average f1 (binary): {combined_f1}\")"
   ],
   "metadata": {
    "collapsed": false,
    "pycharm": {
     "name": "#%%\n"
    }
   }
  },
  {
   "cell_type": "code",
   "execution_count": 3,
   "outputs": [
    {
     "name": "stderr",
     "output_type": "stream",
     "text": [
      "Warning : `load_model` does not return WordVectorModel or SupervisedModel any more, but a `FastText` object which is very similar.\n"
     ]
    },
    {
     "name": "stdout",
     "output_type": "stream",
     "text": [
      "autotuneDuration -> 300\n",
      "autotuneMetric -> f1\n",
      "autotuneModelSize -> \n",
      "autotunePredictions -> 1\n",
      "autotuneValidationFile -> \n",
      "bucket -> 1100541\n",
      "cutoff -> 0\n",
      "dim -> 338\n",
      "dsub -> 2\n",
      "epoch -> 34\n",
      "input -> \n",
      "label -> __label__\n",
      "loss -> loss_name.softmax\n",
      "lr -> 0.05\n",
      "lrUpdateRate -> 100\n",
      "maxn -> 6\n",
      "minCount -> 1\n",
      "minCountLabel -> 0\n",
      "minn -> 3\n",
      "model -> model_name.supervised\n",
      "neg -> 5\n",
      "output -> \n",
      "pretrainedVectors -> \n",
      "qnorm -> False\n",
      "qout -> False\n",
      "retrain -> False\n",
      "saveOutput -> False\n",
      "seed -> 0\n",
      "setManual -> <bound method PyCapsule.setManual of <fasttext_pybind.args object at 0x7f15639c37f0>>\n",
      "t -> 0.0001\n",
      "thread -> 12\n",
      "verbose -> 2\n",
      "wordNgrams -> 1\n",
      "ws -> 5\n"
     ]
    }
   ],
   "source": [
    "ft_model = fasttext.load_model(\"/mnt/c/Users/AdamC/Plocha/Skola/bachelors_thesis/model_twitter_binary.bin\")\n",
    "\n",
    "args_obj = ft_model.f.getArgs()\n",
    "for hparam in dir(args_obj):\n",
    "    if not hparam.startswith('__'):\n",
    "        print(f\"{hparam} -> {getattr(args_obj, hparam)}\")"
   ],
   "metadata": {
    "collapsed": false,
    "pycharm": {
     "name": "#%%\n"
    }
   }
  },
  {
   "cell_type": "code",
   "execution_count": 4,
   "outputs": [
    {
     "name": "stdout",
     "output_type": "stream",
     "text": [
      "autotuneDuration -> 300\n",
      "autotuneMetric -> f1\n",
      "autotuneModelSize -> \n",
      "autotunePredictions -> 1\n",
      "autotuneValidationFile -> \n",
      "bucket -> 1126472\n",
      "cutoff -> 0\n",
      "dim -> 381\n",
      "dsub -> 2\n",
      "epoch -> 27\n",
      "input -> \n",
      "label -> __label__\n",
      "loss -> loss_name.softmax\n",
      "lr -> 0.05\n",
      "lrUpdateRate -> 100\n",
      "maxn -> 6\n",
      "minCount -> 1\n",
      "minCountLabel -> 0\n",
      "minn -> 3\n",
      "model -> model_name.supervised\n",
      "neg -> 5\n",
      "output -> \n",
      "pretrainedVectors -> \n",
      "qnorm -> False\n",
      "qout -> False\n",
      "retrain -> False\n",
      "saveOutput -> False\n",
      "seed -> 0\n",
      "setManual -> <bound method PyCapsule.setManual of <fasttext_pybind.args object at 0x7f15639b59f0>>\n",
      "t -> 0.0001\n",
      "thread -> 12\n",
      "verbose -> 2\n",
      "wordNgrams -> 1\n",
      "ws -> 5\n"
     ]
    },
    {
     "name": "stderr",
     "output_type": "stream",
     "text": [
      "Warning : `load_model` does not return WordVectorModel or SupervisedModel any more, but a `FastText` object which is very similar.\n"
     ]
    }
   ],
   "source": [
    "ft_model = fasttext.load_model(\"/mnt/c/Users/AdamC/Plocha/Skola/bachelors_thesis/model_twitter.bin\")\n",
    "\n",
    "args_obj = ft_model.f.getArgs()\n",
    "for hparam in dir(args_obj):\n",
    "    if not hparam.startswith('__'):\n",
    "        print(f\"{hparam} -> {getattr(args_obj, hparam)}\")"
   ],
   "metadata": {
    "collapsed": false,
    "pycharm": {
     "name": "#%%\n"
    }
   }
  },
  {
   "cell_type": "code",
   "execution_count": null,
   "outputs": [],
   "source": [],
   "metadata": {
    "collapsed": false,
    "pycharm": {
     "name": "#%%\n"
    }
   }
  }
 ],
 "metadata": {
  "kernelspec": {
   "display_name": "Python 3",
   "language": "python",
   "name": "python3"
  },
  "language_info": {
   "codemirror_mode": {
    "name": "ipython",
    "version": 2
   },
   "file_extension": ".py",
   "mimetype": "text/x-python",
   "name": "python",
   "nbconvert_exporter": "python",
   "pygments_lexer": "ipython2",
   "version": "2.7.6"
  }
 },
 "nbformat": 4,
 "nbformat_minor": 0
}